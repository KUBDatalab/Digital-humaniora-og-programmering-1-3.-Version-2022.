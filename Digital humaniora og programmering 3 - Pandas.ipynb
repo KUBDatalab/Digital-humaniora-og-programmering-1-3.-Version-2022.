{
 "cells": [
  {
   "cell_type": "markdown",
   "metadata": {},
   "source": [
    "Denne notebook gennemgår nogle af Python-biblioteket Pandas’ mange muligheder. Pandas er et bibliotek, som man benytter til at arbejde med data, der er struktureret i rækker og kolonner. Man vil ofte vælge at strukturere sine data i rækker og kolonner, hvis man har samlet meget data, og der findes også mange datasæt, som allerede er struktureret således. Med lidt kendskab til Pandas er man godt hjulpet på vej til at kunne give sig i kast med dataanalyse af større datasæt.\n",
    "\n",
    "Når du skal arbejde med Pandas bliver dette cheatsheet din ven: https://pandas.pydata.org/Pandas_Cheat_Sheet.pdf\n",
    "\n",
    "Datasættet til denne notebook hedder 'ft_20151.zip' og ligger her https://github.com/KUBDatalab/datasets.\n",
    "\n",
    "Når datasættet er downloadet, skal det 'unzippes'.\n",
    "\n",
    "Det består af en csv-fil dels med af alle taler fra folketingets talerstol i 2015, dels med den metadata, der er knyttet til hver tale, f.eks. tid, navn, køn, parti, emne m.m. \n",
    "\n",
    "\n",
    "Datasættet er et 'subset' fra dette datasæt: Hansen, Dorte Haltrup, 2018, The Danish Parliament Corpus 2009 - 2017, v1, CLARIN-DK-UCPH Centre Repository, http://hdl.handle.net/20.500.12115/8."
   ]
  },
  {
   "cell_type": "code",
   "execution_count": null,
   "metadata": {},
   "outputs": [],
   "source": [
    "import pandas as pd"
   ]
  },
  {
   "cell_type": "markdown",
   "metadata": {},
   "source": [
    "Hvis man allerede har data i en dataframe struktur, f.eks. i en csv fil, så kan man indlæse data på denne måde."
   ]
  },
  {
   "cell_type": "code",
   "execution_count": null,
   "metadata": {},
   "outputs": [],
   "source": [
    "df = pd.read_csv('ft_20151.csv')"
   ]
  },
  {
   "cell_type": "markdown",
   "metadata": {},
   "source": [
    "Datasættet består dels af alle taler fra folketingets talerstol i 2015, dels af en data, der er knyttet til hver tale, f.eks. tid, navn, køn, parti, emne m.m.\n",
    "\n",
    "Datasættet er et 'subset' fra dette datasæt: _Hansen, Dorte Haltrup, 2018, The Danish Parliament Corpus 2009 - 2017, v1, CLARIN-DK-UCPH Centre Repository, http://hdl.handle.net/20.500.12115/8._ \n",
    "\n",
    "Med .head(4) kan vi inspicere datasættets to første rækker."
   ]
  },
  {
   "cell_type": "code",
   "execution_count": null,
   "metadata": {},
   "outputs": [],
   "source": [
    "df.head(4)"
   ]
  },
  {
   "cell_type": "markdown",
   "metadata": {},
   "source": [
    ".shape kan man bruge til at få vist datasættets omfang."
   ]
  },
  {
   "cell_type": "code",
   "execution_count": null,
   "metadata": {},
   "outputs": [],
   "source": [
    "df.shape"
   ]
  },
  {
   "cell_type": "markdown",
   "metadata": {},
   "source": [
    "Det er klart, at der er en række interessante spørgsmål om danske politik, som man kan få svar på med\n",
    "sådan et datasæt, og nedenfor skal vi prøve at finde svar på nogle af dem, og samtidigt opnå et kendskab til,\n",
    "hvordan man bruger biblioteket Pandas."
   ]
  },
  {
   "cell_type": "markdown",
   "metadata": {},
   "source": [
    "## Sammentælling\n",
    "Pandas har nogle funktioner der kan bruges til at sammentælle data.\n",
    "\n",
    "En af funktionerne er .value_count(), der sammentæller alle forekomster af samme værdi.\n",
    "\n",
    "F.eks. som nedenfor, hvor vi bruge .value_count() til at besvare spørgsmålet om, hvor ofte medlemmer fra de forskellige partier har taget ordet på folketingets talerstol."
   ]
  },
  {
   "cell_type": "code",
   "execution_count": null,
   "metadata": {},
   "outputs": [],
   "source": [
    "df[\"Party\"].value_counts()"
   ]
  },
  {
   "cell_type": "markdown",
   "metadata": {},
   "source": [
    "## Visualisering af sammentællinger\n",
    "Pandas bliver ofte anvendt i kombination med visualiseringsbiblioteket Seaborn. Nedenfor er der et eksempel på et 'countplot'."
   ]
  },
  {
   "cell_type": "code",
   "execution_count": null,
   "metadata": {},
   "outputs": [],
   "source": [
    "import seaborn as sns\n",
    "sns.countplot( y = df[\"Party\"], data = df).set(title=\"Partier på talerstolen 2015\" , xlabel='\\nAntal', ylabel='Parti\\n')"
   ]
  },
  {
   "cell_type": "markdown",
   "metadata": {},
   "source": [
    "Lad os prøve samme kode igen, men nu vil vi besvare spørgsmålet om, hvilke emner er der blevet talt mest om i 2015?"
   ]
  },
  {
   "cell_type": "code",
   "execution_count": null,
   "metadata": {},
   "outputs": [],
   "source": [
    "df[\"Subject 1\"].value_counts()"
   ]
  },
  {
   "cell_type": "code",
   "execution_count": null,
   "metadata": {},
   "outputs": [],
   "source": [
    "sns.countplot( y = df[\"Subject 1\"], data = df).set(title=\"Emner\", xlabel='\\nAntal', ylabel='Parti\\n')"
   ]
  },
  {
   "cell_type": "markdown",
   "metadata": {},
   "source": [
    "## Lav et 'Subset' dvs. udvælg en eller flere kolonner\n",
    "\n",
    "Man kan vælge flere kolonner med specifikke navne med df[['kol1', 'kol2', ... ]]. Læg mærke til at man skal\n",
    "bruge to firkantede paranteser ved start og slut."
   ]
  },
  {
   "cell_type": "code",
   "execution_count": null,
   "metadata": {},
   "outputs": [],
   "source": [
    "df[['Party', 'Text']]"
   ]
  },
  {
   "cell_type": "markdown",
   "metadata": {},
   "source": [
    "Man kan vælge en enkelt kolonne på denne måde."
   ]
  },
  {
   "cell_type": "code",
   "execution_count": null,
   "metadata": {},
   "outputs": [],
   "source": [
    "df['Party']"
   ]
  },
  {
   "cell_type": "markdown",
   "metadata": {},
   "source": [
    "Man vil ofte have behov for at få mere data med ud end blot en kolonne, og derfor bruger man ofte denne\n",
    "metode, hvor man vælger en værdi til at være lig med noget, f.eks. partinavnet skal være lig med 'V'."
   ]
  },
  {
   "cell_type": "code",
   "execution_count": null,
   "metadata": {},
   "outputs": [],
   "source": [
    "df[df['Party'] == 'V']"
   ]
  },
  {
   "cell_type": "markdown",
   "metadata": {},
   "source": [
    "Man kan også få brug for at fremfinde bestemte vendinger eller ord, der indgår i en længere tekst.\n",
    "\n",
    "Til dette kunne vi bruge df[df['Text'].str.contains('tekststreng')].\n",
    "\n",
    "Vi kunne f.eks. filtere taler der indeholder tekststrengen 'islam'?"
   ]
  },
  {
   "cell_type": "code",
   "execution_count": null,
   "metadata": {},
   "outputs": [],
   "source": [
    "new_df = df[df[\"Text\"].str.contains(\"islam\")]"
   ]
  },
  {
   "cell_type": "markdown",
   "metadata": {},
   "source": [
    "Vi kan besvare spærgsmålet: Inden for hvilke emner, taler politikerne i folketinget om 'islam'? "
   ]
  },
  {
   "cell_type": "code",
   "execution_count": null,
   "metadata": {},
   "outputs": [],
   "source": [
    "sns.countplot( y = new_df [\"Subject 1\"], data = new_df).set(title=\"Emner\", xlabel='\\nAntal', ylabel='Parti\\n')"
   ]
  },
  {
   "cell_type": "markdown",
   "metadata": {},
   "source": [
    "# Regex"
   ]
  },
  {
   "cell_type": "markdown",
   "metadata": {},
   "source": [
    "Nedenfor drejer det sig om at besvare spørgsmålet, hvilket parti taler mest om et ud valgt emne? I dette tilfælde ser vi på ordet 'islam'.\n",
    "\n",
    "Vi benytter regulære udtryk (regex) til at holde styr på vores søgning. Regex er smart, fordi er udviklet til at fremfinde tekststrenge store datamængder. Regex er selvfølgelig lidt af en hovedpine, fordi det er ret besværligt at komme i gang med at sammesætte udtrykkene.\n",
    "\n",
    "Vi kan bruge udtrykket '\\b' til at ramme starten og slutningen af et ord ('\\bislam\\b'). På den måde er vi sikre på, at vi kun finder tekststrengen 'islam' og ikke tekststrenge, hvor 'islam' indgår i, f.eks. 'islamisk'.\n",
    "\n",
    "Når vi er interesseret i at finde ordet 'islam' inklusiv alle endelser kan vi tilføje endelsen \\w* efter islam."
   ]
  },
  {
   "cell_type": "code",
   "execution_count": null,
   "metadata": {},
   "outputs": [],
   "source": [
    "regex1 = r'\\bislam\\b'\n",
    "regex2 = r'\\bislam\\w*'"
   ]
  },
  {
   "cell_type": "code",
   "execution_count": null,
   "metadata": {},
   "outputs": [],
   "source": [
    "data_search1 = df[df['Text'].str.contains(regex1, regex=True)]\n",
    "data_search2 = df[df['Text'].str.contains(regex2, regex=True)]"
   ]
  },
  {
   "cell_type": "code",
   "execution_count": null,
   "metadata": {},
   "outputs": [],
   "source": [
    "print (len(data_search1))\n",
    "print (len(data_search2))"
   ]
  },
  {
   "cell_type": "code",
   "execution_count": null,
   "metadata": {},
   "outputs": [],
   "source": [
    "sns.countplot( y = data_search['Party'], \n",
    "              data = data_search2).set(title='Hvilket parti taler mest om emnet?', \n",
    "                                                                 xlabel='Antal af taler', ylabel='Parti')"
   ]
  },
  {
   "cell_type": "markdown",
   "metadata": {},
   "source": [
    "# Filtrering af data ved brug af flere betingelser\n",
    "\n",
    "Den boolske operator '&' kan anvendes til i de tilfælde, hvor der er brug for at flere betingelser er opfyldt. Der skal tilføjes nogle parenteser for at holde styr på de forskellige dele.\n",
    "\n",
    "Vi vil gerne se nærmere på de taler."
   ]
  },
  {
   "cell_type": "code",
   "execution_count": null,
   "metadata": {},
   "outputs": [],
   "source": [
    "df['Role'].value_counts()"
   ]
  },
  {
   "cell_type": "code",
   "execution_count": null,
   "metadata": {},
   "outputs": [],
   "source": [
    "new_df = df[(df['Role'] == 'medlem') & (df['Text'].str.contains(regex1, regex=True))]"
   ]
  },
  {
   "cell_type": "code",
   "execution_count": null,
   "metadata": {},
   "outputs": [],
   "source": [
    "new_df "
   ]
  },
  {
   "cell_type": "code",
   "execution_count": null,
   "metadata": {},
   "outputs": [],
   "source": [
    "#sns.set(rc = {'figure.figsize':(15,8)})\n",
    "sns.countplot( y = new_df['Name'], hue='Party', data = new_df).set(title='Hvilket medlem taler mest om emnet?', xlabel='Antal af taler', ylabel='Parti')"
   ]
  },
  {
   "cell_type": "markdown",
   "metadata": {},
   "source": [
    "## Frekvensanalyse - trends"
   ]
  },
  {
   "cell_type": "markdown",
   "metadata": {},
   "source": [
    "Hvornår taler man mest om noget?"
   ]
  },
  {
   "cell_type": "markdown",
   "metadata": {},
   "source": [
    "Lav en tekststreng af alle taler."
   ]
  },
  {
   "cell_type": "code",
   "execution_count": null,
   "metadata": {},
   "outputs": [],
   "source": [
    "text_2015 = str(' '.join(df['Text'].str.lower()))"
   ]
  },
  {
   "cell_type": "markdown",
   "metadata": {},
   "source": [
    "Split hvert år i 10 segmenter."
   ]
  },
  {
   "cell_type": "code",
   "execution_count": null,
   "metadata": {},
   "outputs": [],
   "source": [
    "interval = int(len(text_2015) / 10)"
   ]
  },
  {
   "cell_type": "code",
   "execution_count": null,
   "metadata": {},
   "outputs": [],
   "source": [
    "segments = [text_2015[i:i + interval] for i in range(0, len(text_2015), interval)]\n",
    "segments = segments[0:10]"
   ]
  },
  {
   "cell_type": "code",
   "execution_count": null,
   "metadata": {},
   "outputs": [],
   "source": [
    "df2 = pd.DataFrame ({'Segment': [0, 1, 2, 3, 4, 5, 6, 7, 8, 9], \n",
    "                   'Text': segments})"
   ]
  },
  {
   "cell_type": "code",
   "execution_count": null,
   "metadata": {},
   "outputs": [],
   "source": [
    "# Søgeord\n",
    "search_word = 'islam'\n",
    "df2['search_word'] = search_word"
   ]
  },
  {
   "cell_type": "code",
   "execution_count": null,
   "metadata": {},
   "outputs": [],
   "source": [
    "df2['Rel freq'] = df2['Text'].str.count(search_word) / df2['Text'].str.split().str.len().sum()"
   ]
  },
  {
   "cell_type": "code",
   "execution_count": null,
   "metadata": {},
   "outputs": [],
   "source": [
    "sns.lineplot(data=df2, x='Segment', y=\"Rel freq\", hue='search_word').set(title='Hvornår taler de mest om ' + search_word, xlabel='Tid', ylabel='Relativ frekvens')"
   ]
  },
  {
   "cell_type": "code",
   "execution_count": null,
   "metadata": {},
   "outputs": [],
   "source": []
  }
 ],
 "metadata": {
  "kernelspec": {
   "display_name": "Python 3 (ipykernel)",
   "language": "python",
   "name": "python3"
  },
  "language_info": {
   "codemirror_mode": {
    "name": "ipython",
    "version": 3
   },
   "file_extension": ".py",
   "mimetype": "text/x-python",
   "name": "python",
   "nbconvert_exporter": "python",
   "pygments_lexer": "ipython3",
   "version": "3.9.12"
  }
 },
 "nbformat": 4,
 "nbformat_minor": 4
}
