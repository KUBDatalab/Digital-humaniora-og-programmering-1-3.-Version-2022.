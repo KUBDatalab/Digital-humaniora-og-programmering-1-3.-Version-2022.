{
 "cells": [
  {
   "cell_type": "markdown",
   "metadata": {},
   "source": [
    "# Der var engang... - et lille indblik i RegEx og HC Andersen"
   ]
  },
  {
   "cell_type": "markdown",
   "metadata": {},
   "source": [
    "Online RegEx tester: https://regex101.com/ er en helt fantastisk hjælpsom side til at lære at anvende regulære udtryk (Regex).\n",
    "\n",
    "W3schools har også en meget brugbar side, der handler om RegEx. https://www.w3schools.com/python/python_regex.asp\n",
    "\n",
    "Regex' anvendelse er meget udbredt, fordi RegEx er super smart i relation til tekstbehandling, fordi det kan bruges til at foretage avancerede søgninger. RegEx anvendes til søgemaskiner og til søg og erstat funktioner. At arbejde med RegEx er afgjort en oplevelse for sig, men når man får indblik i omfanget af opgaver, som kan løses med RegEx, så indser man, at det er et utroligt godt værktøj.\n",
    "\n",
    "Denne notebook forsøger ikke at lære dig alt om RegEx, men den forsøger at skabe læring om det, og kun et fåtal af mulighederne bliver illustreret nedenfor.\n",
    "\n",
    "Foruden RegEx indeholder denne notebook mange loops og list comprehensions, så på den måde kan du også få indblik i, hvordan du skriver den slags.\n",
    "\n",
    "Kildematerialet (dataen) består i 15 HC Andersen eventyr. Dataen kan downloades herfra: https://github.com/KUBDatalab/datasets"
   ]
  },
  {
   "cell_type": "markdown",
   "metadata": {},
   "source": [
    "## Indlæs filer"
   ]
  },
  {
   "cell_type": "markdown",
   "metadata": {},
   "source": [
    "Brug 'os' til at rykke til mappen 'hca' og gemme indholdet af mappen i en liste, som vi kalder _filenames_. "
   ]
  },
  {
   "cell_type": "code",
   "execution_count": null,
   "metadata": {},
   "outputs": [],
   "source": [
    "import os\n",
    "\n",
    "os.chdir('.\\\\hca')\n",
    "\n",
    "file_list = os.listdir()         "
   ]
  },
  {
   "cell_type": "code",
   "execution_count": null,
   "metadata": {},
   "outputs": [],
   "source": [
    "os.getcwd()"
   ]
  },
  {
   "cell_type": "code",
   "execution_count": null,
   "metadata": {},
   "outputs": [],
   "source": [
    "file_list"
   ]
  },
  {
   "cell_type": "markdown",
   "metadata": {},
   "source": [
    "Vi bruger lister til at gemme flere elementer i en variabel. Vi kan tilgå hvert element ved at skrive navnet på variablen efterfulgt af to firkantede parenteser, hvor i vi skriver et tal, der henviser til elementets plads i listen. I python er det første element 0 og ikke 1.\n",
    "\n",
    "For eksempel `file_names[0]` returner '1835_den_lille_idas_blomster.txt', og `file_names[1]` returner '1835_den_uartige_dreng.txt'.\n",
    "\n",
    "Vi kan også returnere et udsnit af elementer fra listen ved bruge et kolon i den firkantede parentes.\n",
    "\n",
    "For eksempel `ile_names[0:3]` returner de tre første elementer, og vi vil få samme resultat, hvis vi skriver `file_names[:3]`\n",
    "\n",
    "Vi kan også benytte negative tal.\n",
    "\n",
    "For eksempel `file_names[-3:]` returner de tre sidste elementer."
   ]
  },
  {
   "cell_type": "markdown",
   "metadata": {},
   "source": [
    "# Indlæs tekster "
   ]
  },
  {
   "cell_type": "markdown",
   "metadata": {},
   "source": [
    "Når man åbner en tekst bruger man open(). Man tilføjer et _r_, så python kan regne ud at du åbner filen for at læse den, og man tilføjer encoding for at konvertere data til et læsbart format.\n",
    "\n",
    "I anden linje skriver vi et ny variabelnavn efterfulgt af forrige variabelnavn og .read() til \n"
   ]
  },
  {
   "cell_type": "code",
   "execution_count": null,
   "metadata": {},
   "outputs": [],
   "source": [
    "open_file = open(file_list[0], 'r', encoding='utf-8-sig')\n",
    "raw_text = open_file.read()\n",
    "open_file.close()"
   ]
  },
  {
   "cell_type": "markdown",
   "metadata": {},
   "source": [
    "Ovenfor har vi åbnet en tekst og gemt den i en variabel, men vi skal åbne 15 tekster. I stedet for at skrive 45 linjer med kode for at gøre dette, så bygger vi et loop, som kan gøre det i seks linjer, og som udnytter at vi kan gemme flere værdier i en liste.\n",
    "\n",
    "Vi genbruger koden, som vi lige har skrevet og modificerer den en smule."
   ]
  },
  {
   "cell_type": "code",
   "execution_count": null,
   "metadata": {},
   "outputs": [],
   "source": [
    "raw_texts = []\n",
    "for item in file_list:\n",
    "    open_file = open(item, 'r', encoding='utf-8-sig')\n",
    "    raw_text = open_file.read()\n",
    "    open_file.close()\n",
    "    raw_texts.append(raw_text)    "
   ]
  },
  {
   "cell_type": "code",
   "execution_count": null,
   "metadata": {},
   "outputs": [],
   "source": [
    "raw_texts[2]"
   ]
  },
  {
   "cell_type": "markdown",
   "metadata": {},
   "source": [
    "# Clean text"
   ]
  },
  {
   "cell_type": "markdown",
   "metadata": {},
   "source": [
    "Rensning af tekst kan foregå på flere måder. Metoden nedenfor er på den måde en ud af flere måder.\n",
    "\n",
    "Vi begynder med at importere RegEx (import re).\n",
    "\n",
    "RegEx mønsteret er '\\b\\S+\\b'.\n",
    "\n",
    "\\b : \\b finder positionen ved grænsen af et ord (word boundary).\n",
    "\n",
    "\\S: \\S matcher ethvert ikke-mellemrum\n",
    "\n",
    "+: + matcher det forrige tegn mellem én og et ubegrænset antal gange, så mange gange som muligt ind til næste tegn. Man siger, at plusset er grådigt.\n",
    "\n",
    "\n",
    "\\b : \\b finder positionen ved grænsen af et ord (word boundary)."
   ]
  },
  {
   "cell_type": "code",
   "execution_count": null,
   "metadata": {},
   "outputs": [],
   "source": [
    "import re"
   ]
  },
  {
   "cell_type": "code",
   "execution_count": null,
   "metadata": {},
   "outputs": [],
   "source": [
    "clean_texts = []\n",
    "for text in raw_texts:\n",
    "    text_lower_string = text.lower()\n",
    "    # RexEx funktionen .findall returnerer en liste af ord\n",
    "    text_clean_list = re.findall(r'\\b\\S+\\b', text_lower_string)\n",
    "    # Med ' '.join samles ordlisten til en tekststreng\n",
    "    string_text = ' '.join(text_clean_list)\n",
    "    # Med append tilføjes tekststrengen til listen clean_texts\n",
    "    clean_texts.append(string_text) "
   ]
  },
  {
   "cell_type": "code",
   "execution_count": null,
   "metadata": {},
   "outputs": [],
   "source": [
    "# listen består af 15 tekster\n",
    "len(clean_texts)"
   ]
  },
  {
   "cell_type": "code",
   "execution_count": null,
   "metadata": {},
   "outputs": [],
   "source": [
    "# Første rensede tekst\n",
    "clean_texts[0]"
   ]
  },
  {
   "cell_type": "markdown",
   "metadata": {},
   "source": [
    "# Sammenligninger"
   ]
  },
  {
   "cell_type": "markdown",
   "metadata": {},
   "source": [
    "På i dansk litteratur anvender man ofte sammenligninger til at illustrere pointer tydeligere ved at sætte billeder på det man vil beskrive. Sammenligninger bidrager også til at gøre teksten mere levende og intererssant.\n",
    "\n",
    "Men regex bliver det en overkommelig opgave at hente eksempler på HC Andersens brug af sammenligninger, fordi vi kan finde tekststrenge som følger mønsteret i en typisk sammenligning. \n",
    "\n",
    "Vi kan illustrere det på følgende måde. Vi leder efter fraser, hvis mønster enten er _som en ..._ eller _som et ..._.\n",
    "\n",
    "RegEx mønsteret kan skrives således: \n",
    "\n",
    "'som\\sen\\s\\w+|som\\set\\s\\w+'\n",
    "\n",
    "Ordet _som_ efterfølges af _\\s_, der betyder _white space_, der efterfølges af _en_, derefterføgles af _\\s_, der efterfølges \\w, der betyder _word charater_, der efterfølges af _+_ der betyder \"en eller flere af den forrige\".\n",
    "\n",
    "Den lodrette streg, _|_ , betyder eller, som efterfølges af et mønster der stort set er en gentagelse af det mønsteret til venstre for stregen bortset fra, at ordet _en_ er blevet erstattet med ordet _et_. "
   ]
  },
  {
   "cell_type": "code",
   "execution_count": null,
   "metadata": {},
   "outputs": [],
   "source": [
    "comparisons = []\n",
    "for text in clean_texts:\n",
    "    comparison = re.findall(r'som\\sen\\s\\w+|som\\set\\s\\w+', text)\n",
    "    comparisons.append(comparison)"
   ]
  },
  {
   "cell_type": "markdown",
   "metadata": {},
   "source": [
    "RegEx mønsteret kan også skrives således:\n",
    "\n",
    "'som\\se[nt]\\s\\w+'\n",
    "\n",
    "Det er: som, mellemrum, e efterfulgt af enten n eller t, mellemrum, ordtegn og flere af dem."
   ]
  },
  {
   "cell_type": "code",
   "execution_count": null,
   "metadata": {},
   "outputs": [],
   "source": [
    "comparisons1 = []\n",
    "for text in clean_texts:\n",
    "    comparison = re.findall(r'som\\se[nt]\\s\\w+', text)\n",
    "    comparisons1.append(comparison)"
   ]
  },
  {
   "cell_type": "markdown",
   "metadata": {},
   "source": [
    ".findall() funktionen tager to obligatoriske argumenter (mønster, text) og et valgfrit ( IGNORECASE - ignorer om det store eller små bogstaver). Bruger vi IGNORECASE fungerer mønsteret vel også på de rå ikke-rensede tekster."
   ]
  },
  {
   "cell_type": "code",
   "execution_count": null,
   "metadata": {},
   "outputs": [],
   "source": [
    "comparisons2 = []\n",
    "flags = re.IGNORECASE\n",
    "for text in raw_texts:\n",
    "    comparison = re.findall(r'som\\se[nt]\\s\\w+', text, flags)\n",
    "    comparisons2.append(comparison)"
   ]
  },
  {
   "cell_type": "markdown",
   "metadata": {},
   "source": [
    "Der er tomme lister i den liste, som vi får returneret, hvilket viser, der er nogle eventyr, hvor HC Andersen ikke bruger 'som en' eller 'som et'. Det er f.eks. det første eventyr.\n",
    "\n",
    "Det undrer mig, at HC Andersen ikke bruger sammenligninger i den første tekst, så jeg vil gerne undersøge, hvordan han så bruger 'som'.\n",
    "\n",
    "Derfor laver jeg mønsteret som mellemrum flere ordtegn mellemrum flere ordtegn og søger med dette mønster i første tekst."
   ]
  },
  {
   "cell_type": "code",
   "execution_count": null,
   "metadata": {},
   "outputs": [],
   "source": [
    "re.findall(r'\\w+\\ssom\\s\\w+\\s\\w+\\s\\w+', clean_texts[0])"
   ]
  },
  {
   "cell_type": "markdown",
   "metadata": {},
   "source": [
    "Han bruger 'som' og han bruger også sammenligninger, men han bruger ikke 'som en' eller 'som et'."
   ]
  },
  {
   "cell_type": "markdown",
   "metadata": {},
   "source": [
    "Resultatet med de tomme lister kan vi 'smukkesere' lidt.\n",
    "\n",
    "Det kan vi bruge et loop til, men loops kan også skrives, som list comprehensions, hvilket nogle gange er en hurtigere og en smartere metode at bruge. "
   ]
  },
  {
   "cell_type": "markdown",
   "metadata": {},
   "source": [
    "I listen ovenfor er der en del tomme felter, og eftersom det ikke ser så smart ud, så vil vi helst sortere dem væk. Det gør vi med en list comprehension, hvori vi også indsætter en betingelse.   "
   ]
  },
  {
   "cell_type": "code",
   "execution_count": null,
   "metadata": {},
   "outputs": [],
   "source": [
    "comparisons = [i for i in comparisons if i !=[]]"
   ]
  },
  {
   "cell_type": "markdown",
   "metadata": {},
   "source": [
    "Resultatet er bedre, men stadigvæk ikke helt godt nok. Måske ville det faktisk være bedre, hvis resultatet er helt fald liste.\n",
    "\n",
    "Vi skriver derfor en list comprehension, der kan flade listen ud."
   ]
  },
  {
   "cell_type": "code",
   "execution_count": null,
   "metadata": {},
   "outputs": [],
   "source": [
    "comparisons = [x for y in comparisons for x in y]"
   ]
  },
  {
   "cell_type": "markdown",
   "metadata": {},
   "source": [
    "Det er en utrolig lang liste, hvor i hvert fald tekststrengen 'som en lille' optræder mere end en gang.\n",
    "\n",
    "Det ville være smart med en ny mængde, der ikke indeholder dubletter. Det kan vi gøre ved at lave listen om til et _set_, fordi i et _set_ kan man ikke have dubletter."
   ]
  },
  {
   "cell_type": "code",
   "execution_count": null,
   "metadata": {},
   "outputs": [],
   "source": [
    "comparisons = set(comparisons)"
   ]
  },
  {
   "cell_type": "markdown",
   "metadata": {},
   "source": [
    "# Find et tekstuddrag baseret på søgeord og et interval "
   ]
  },
  {
   "cell_type": "markdown",
   "metadata": {},
   "source": [
    "Vi vil finde ordet 'sol' samt ord, der er beslægtet med ordet, og vi må have noget kontekst med, fordi vi er faktisk interesseret i at pege ned i teksten og se, hvordan HC Andersen helt præcist bruger ordet sol.\n",
    "\n",
    "Til dette skal vi bruge _\\w._, fordi det giver os flere ordtegn og _{30}_ søger for, at vi får 30 ordtegn før, vi rammer bogstaverne _sol_. _\\b_ foran _sol_ søger for at vi kun finder ord, der begynder med _sol_ og ikke ord, hvor _sol_ er en del af ordet, f.eks. tinsoldat. Efter _sol_ søger _\\w.{30}_ for, at vi får endnu 30 ordtegn.      "
   ]
  },
  {
   "cell_type": "code",
   "execution_count": null,
   "metadata": {},
   "outputs": [],
   "source": [
    "re.findall(r'\\w.{30}\\bsol\\w.{30}', clean_texts[5])"
   ]
  },
  {
   "cell_type": "markdown",
   "metadata": {},
   "source": [
    "Nu får vi et resultat, som ikke er helt efter planen, fordi ordet soldat er vi ikke interesseret i.\n",
    "\n",
    "Vi forbedrer vores mønster på den måde, at vi tilføjer _[^dig]_ efter _sol_. Den lille hat _^_ inde i de firkantede parenteser søger for at bogstavere _d, i og g_ ikke kan stå på positionen efter _sol_. På den måde slipper vi af med ord som soldat, solid og solgt."
   ]
  },
  {
   "cell_type": "code",
   "execution_count": null,
   "metadata": {},
   "outputs": [],
   "source": [
    "contexts1 = []\n",
    "for text in clean_texts:\n",
    "    context = re.findall(r'\\w.{30}\\bsol[^d]\\w.{30}', text) # ig \n",
    "    contexts1.append(context)\n",
    "    \n",
    "# print ikke lister der er tomme\n",
    "contexts1 = [i for i in contexts1 if i !=[]]\n",
    "# flad listen ud\n",
    "contexts1 = [x for y in contexts1 for x in y]\n",
    "\n",
    "contexts1 = set(contexts1)"
   ]
  },
  {
   "cell_type": "code",
   "execution_count": null,
   "metadata": {},
   "outputs": [],
   "source": [
    "contexts1"
   ]
  },
  {
   "cell_type": "markdown",
   "metadata": {},
   "source": [
    "# Find ord, der begynder med store bogstaver"
   ]
  },
  {
   "cell_type": "code",
   "execution_count": null,
   "metadata": {},
   "outputs": [],
   "source": [
    "upper_case_words = []\n",
    "for text in raw_texts:\n",
    "    upper_case_word = re.findall(r'[A-ZÆØÖÄ]\\w+', text)\n",
    "    upper_case_words.append(upper_case_word)\n",
    "    \n",
    "    \n",
    "# print ikke lister der er tomme\n",
    "upper_case_words = [i for i in upper_case_words if i !=[]]\n",
    "# flad listen ud\n",
    "upper_case_words = [x for y in upper_case_words for x in y]\n",
    "# fjern dubletter\n",
    "upper_case_words = set(upper_case_words)"
   ]
  },
  {
   "cell_type": "markdown",
   "metadata": {},
   "source": [
    "Mange af disse ord er skrevet med stort, fordi de optræder efter et punktum, og på den måde er de ikke, hvad jeg vil kalde for \"ægte\" ord med stort.\n",
    "\n",
    "Hvis man vil bortfiltrere de \"uægte\" ord fra sin liste, så kan man afsløre dem ved at lave et loop og indsætte en betingelse, der kan tjekke om, ordene skulle være skrevet med småt andre steder i teksterne, fordi hvis de er det, så er de \"uægte\".\n",
    "\n",
    "Konkret gør vi det på den måde at vi looper listen med ord med store bogtaver. Hvis ordet, som vi med .lower() manipulere til kun at bestå af småbogstaver, ikke findes skrevet med et lille begyndelsesbogstav i alle teksterne, så tilføjer vi ordet til vores nye liste med ord med stort begyndelsesbogstav.\n",
    "\n",
    "NB. vi samler alle tekster i listen raw_texts med ' '.join()      "
   ]
  },
  {
   "cell_type": "code",
   "execution_count": null,
   "metadata": {},
   "outputs": [],
   "source": [
    "upper_case_words1 = []\n",
    "for word in upper_case_words:\n",
    "    if word.lower() not in ' '.join(raw_texts):\n",
    "        upper_case_words1.append(word)"
   ]
  },
  {
   "cell_type": "markdown",
   "metadata": {},
   "source": [
    "# Find tekstuddrag baseret på to søgeord og et interval"
   ]
  },
  {
   "cell_type": "markdown",
   "metadata": {},
   "source": [
    "Det sidste eksempel består i at finde tekstuddrag, der er kendetegnet ved at befinde sig mellem to udvalgte ord og ikke er længere end et udvalgt interval.\n",
    "\n",
    "Det kan f.eks. være relevant, hvis man er interesseret i at identificere tekstuddrag, hvor to vigtige karakterer eller begreber optræder i nærheden af hinanden.   "
   ]
  },
  {
   "cell_type": "code",
   "execution_count": null,
   "metadata": {},
   "outputs": [],
   "source": [
    "contexts2 = []\n",
    "for text in clean_texts:\n",
    "    context = re.findall(r'\\bsoldat.+?\\bprindsesse\\w+|\\bprindsesse.+?\\bsoldat\\w+', text) # \n",
    "    contexts2.append(context)\n",
    "    \n",
    "# print ikke lister der er tomme\n",
    "contexts2 = [i for i in contexts2 if i !=[]]\n",
    "# flad listen ud\n",
    "contexts2 = [x for y in contexts2 for x in y]\n",
    "# indsæt et max interval mellem første og andet ord \n",
    "contexts_within_interval = [item for item in contexts2 if len(item) <= 500]"
   ]
  },
  {
   "cell_type": "markdown",
   "metadata": {},
   "source": [
    "# Hvorfor sker der aldrig noget på en tirsdag? \n",
    "\n",
    "Find ord med særlige endelser, f.eks. _dag_, kan være en hjælp til at få indblik i, hvor og hvornår litteraturen foregår.\n",
    "\n",
    "Man kan også bruge endelserne til at finde grammatiske former, f.eks. vil ord med lang tillægsform være relativt lette at identificere.  "
   ]
  },
  {
   "cell_type": "code",
   "execution_count": null,
   "metadata": {},
   "outputs": [],
   "source": [
    "words_endings = []\n",
    "for w in clean_texts:\n",
    "    ending = re.findall(r'\\w+dag\\b', w)\n",
    "    words_endings.append(ending)\n",
    "\n",
    "# print ikke lister der er tomme\n",
    "words_endings = [i for i in words_endings if i !=[]]\n",
    "# flad listen ud\n",
    "words_endings = [x for y in words_endings for x in y]\n",
    "# fjern dubletter\n",
    "words_endings = set(words_endings)"
   ]
  },
  {
   "cell_type": "code",
   "execution_count": null,
   "metadata": {},
   "outputs": [],
   "source": [
    "words_endings"
   ]
  }
 ],
 "metadata": {
  "kernelspec": {
   "display_name": "Python 3 (ipykernel)",
   "language": "python",
   "name": "python3"
  },
  "language_info": {
   "codemirror_mode": {
    "name": "ipython",
    "version": 3
   },
   "file_extension": ".py",
   "mimetype": "text/x-python",
   "name": "python",
   "nbconvert_exporter": "python",
   "pygments_lexer": "ipython3",
   "version": "3.9.12"
  }
 },
 "nbformat": 4,
 "nbformat_minor": 4
}
